{
 "cells": [
  {
   "cell_type": "code",
   "execution_count": 17,
   "metadata": {
    "collapsed": false
   },
   "outputs": [],
   "source": [
    "# *args vai ser todos os valores que eu passar de forma posicional, ou seja, se eu passar apenas o valor\n",
    "# são todos os parâmetros que tem apenas o valor, não nomeados\n",
    "def print_valores(*args, **kwargs): # **kwargs pega todos os valores que estão com chave e valor, nomeados\n",
    "    print(args)\n",
    "    print(type(args))\n",
    "    \n",
    "    print(kwargs)\n",
    "    print(type(kwargs)) # **kwargs recebe valores nomeados de forma dinâmica"
   ]
  },
  {
   "cell_type": "code",
   "execution_count": null,
   "metadata": {
    "collapsed": true
   },
   "outputs": [],
   "source": [
    "# a função abaixo faz a mesma coisa da função acima\n",
    "# *args vai ser todos os valores que eu passar de forma posicional, ou seja, se eu passar apenas o valor\n",
    "# são todos os parâmetros que tem apenas o valor, não nomeados\n",
    "def print_valores(*posicionais, **nomeados):\n",
    "    print(posicionais)\n",
    "    print(nomeados)"
   ]
  },
  {
   "cell_type": "code",
   "execution_count": 14,
   "metadata": {
    "collapsed": false
   },
   "outputs": [
    {
     "name": "stdout",
     "output_type": "stream",
     "text": [
      "('teste1', 'teste2')\n",
      "<class 'tuple'>\n",
      "{'parametro': 'teste3'}\n",
      "<class 'dict'>\n"
     ]
    }
   ],
   "source": [
    "# 'teste1' e 'teste2' são parâmtros posicionais (*args), gera uma tupla\n",
    "# parametro='teste3' é um parâmetro nomeado (**kwargs), gera um dicionário\n",
    "print_valores('teste1', 'teste2', parametro='teste3')"
   ]
  },
  {
   "cell_type": "code",
   "execution_count": 18,
   "metadata": {
    "collapsed": true
   },
   "outputs": [],
   "source": [
    "def criar_contato(*args): # *args são as informações que quero resgatar do usuário através do input\n",
    "    print('Digite as informações do contato')\n",
    "    info = {} # cria um dicionário vazio\n",
    "    for arg in args:\n",
    "        info[arg] = input('Digite %s: ' %arg) # recebe vários valores do tipo string\n",
    "    return info\n",
    "# dicionário não é ordenado atá a versão 3.5 do Python\n",
    "# é ordenado a partir da versão 3.6"
   ]
  },
  {
   "cell_type": "code",
   "execution_count": 16,
   "metadata": {
    "collapsed": false
   },
   "outputs": [],
   "source": [
    "# contato = criar_contato('nome', 'email')"
   ]
  },
  {
   "cell_type": "code",
   "execution_count": null,
   "metadata": {
    "collapsed": false
   },
   "outputs": [],
   "source": [
    "contato "
   ]
  },
  {
   "cell_type": "code",
   "execution_count": null,
   "metadata": {
    "collapsed": false
   },
   "outputs": [],
   "source": [
    "contato.values()"
   ]
  },
  {
   "cell_type": "code",
   "execution_count": null,
   "metadata": {
    "collapsed": false
   },
   "outputs": [],
   "source": [
    "' '.join(['a', 'b', 'c']) # explicação do método join"
   ]
  },
  {
   "cell_type": "code",
   "execution_count": 19,
   "metadata": {
    "collapsed": true
   },
   "outputs": [],
   "source": [
    "# recebe valores nomeados de forma dinâmica\n",
    "def salvar_contato(**kwargs): \n",
    "    contato = open('contato.csv', 'a') # cria o arquivo objeto \"contatos\" se ele não existir ainda\n",
    "    contato.write(','.join(kwargs.values()))\n",
    "    contato.flush()\n",
    "    contato.close()"
   ]
  },
  {
   "cell_type": "code",
   "execution_count": null,
   "metadata": {
    "collapsed": false
   },
   "outputs": [],
   "source": [
    "salvar_contato(**contato)"
   ]
  }
 ],
 "metadata": {
  "kernelspec": {
   "display_name": "Python 3",
   "language": "python",
   "name": "python3"
  },
  "language_info": {
   "codemirror_mode": {
    "name": "ipython",
    "version": 3
   },
   "file_extension": ".py",
   "mimetype": "text/x-python",
   "name": "python",
   "nbconvert_exporter": "python",
   "pygments_lexer": "ipython3",
   "version": "3.5.2"
  }
 },
 "nbformat": 4,
 "nbformat_minor": 2
}
