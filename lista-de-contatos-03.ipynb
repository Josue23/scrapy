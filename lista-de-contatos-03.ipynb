{
 "cells": [
  {
   "cell_type": "code",
   "execution_count": 22,
   "metadata": {
    "collapsed": false
   },
   "outputs": [],
   "source": [
    "def criar_contato():\n",
    "    print('Digite as informações do contato')\n",
    "    nome = input('Nome: ')\n",
    "    email = input('Email: ')\n",
    "    telefone = input('Telefone: ')\n",
    "    return nome, email, telefone"
   ]
  },
  {
   "cell_type": "code",
   "execution_count": 23,
   "metadata": {
    "collapsed": true
   },
   "outputs": [],
   "source": [
    "# recebe o return nome, email, telefone da função criar_contato()\n",
    "def salvar_contato(nome, email, telefone):\n",
    "    contato = open('contato.csv', 'a') # cria o arquivo objeto \"contatos\" se ele não existir ainda\n",
    "    contato.write('%s, %s, %s\\n' %(nome, email, telefone)) # grava no arquivo objeto \"contatos\"\n",
    "    contato.flush()\n",
    "    contato.close()"
   ]
  },
  {
   "cell_type": "code",
   "execution_count": 24,
   "metadata": {
    "collapsed": false
   },
   "outputs": [
    {
     "name": "stdout",
     "output_type": "stream",
     "text": [
      "Digite as informações do contato\n",
      "Nome: p\n",
      "Email: p@p.p\n",
      "Telefone: 0000000000000\n"
     ]
    }
   ],
   "source": [
    "# chama a função criar_contato()\n",
    "# nome, email, telefone = criar_contato()\n",
    "n, e, t = criar_contato()"
   ]
  },
  {
   "cell_type": "code",
   "execution_count": 25,
   "metadata": {
    "collapsed": true
   },
   "outputs": [],
   "source": [
    "# chama a função salvar_contato()\n",
    "# salvar_contato(nome, email, telefone) # parâmetro posicional passando somente os valores para a função\n",
    "# que vai casar com a posição da definição da função onde tem a assinatura da função\n",
    "salvar_contato(telefone=t, nome=n, email=e) # parâmetro nomeado"
   ]
  },
  {
   "cell_type": "code",
   "execution_count": 26,
   "metadata": {
    "collapsed": false
   },
   "outputs": [],
   "source": [
    "# abre novamente o arquivo contatos.csv\n",
    "contato = open('contato.csv')"
   ]
  },
  {
   "cell_type": "code",
   "execution_count": 27,
   "metadata": {
    "collapsed": false
   },
   "outputs": [
    {
     "name": "stdout",
     "output_type": "stream",
     "text": [
      "k, k@k.k, 5555555553333333333333\n",
      "p, p@p.p, 0000000000000\n",
      "\n"
     ]
    }
   ],
   "source": [
    "# imprime os dados do arquivo contatos.csv através do arquivo objeto \"contatos\"\n",
    "print(contato.read())"
   ]
  }
 ],
 "metadata": {
  "kernelspec": {
   "display_name": "Python 3",
   "language": "python",
   "name": "python3"
  },
  "language_info": {
   "codemirror_mode": {
    "name": "ipython",
    "version": 3
   },
   "file_extension": ".py",
   "mimetype": "text/x-python",
   "name": "python",
   "nbconvert_exporter": "python",
   "pygments_lexer": "ipython3",
   "version": "3.5.2"
  }
 },
 "nbformat": 4,
 "nbformat_minor": 2
}
