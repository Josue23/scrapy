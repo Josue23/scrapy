{
 "cells": [
  {
   "cell_type": "code",
   "execution_count": null,
   "metadata": {
    "collapsed": true
   },
   "outputs": [],
   "source": []
  },
  {
   "cell_type": "code",
   "execution_count": 2,
   "metadata": {
    "collapsed": true
   },
   "outputs": [],
   "source": [
    "def criar_contato():\n",
    "    print('Digite as informações do contato')\n",
    "    nome = input('Nome: ')\n",
    "    email = input('Email: ')\n",
    "    telefone = input('Telefone: ')\n",
    "    return { # retorna um dicionário com os dados do contato\n",
    "        'nome': nome,\n",
    "        'email': email,\n",
    "        'telefone': telefone\n",
    "    }"
   ]
  },
  {
   "cell_type": "code",
   "execution_count": 4,
   "metadata": {
    "collapsed": true
   },
   "outputs": [],
   "source": [
    "# recebe o return nome, email, telefone da função criar_contato()\n",
    "def salvar_contato(nome, email, telefone):\n",
    "    contato = open('contato.csv', 'a') # cria o arquivo objeto \"contatos\" se ele não existir ainda\n",
    "    contato.write('%s, %s, %s\\n' %(nome, email, telefone)) # grava no arquivo objeto \"contatos\"\n",
    "    contato.flush()\n",
    "    contato.close()"
   ]
  },
  {
   "cell_type": "code",
   "execution_count": 12,
   "metadata": {
    "collapsed": false
   },
   "outputs": [
    {
     "name": "stdout",
     "output_type": "stream",
     "text": [
      "Digite as informações do contato\n",
      "Nome: z\n",
      "Email: z@z.z\n",
      "Telefone: 3333333333333333333333\n"
     ]
    }
   ],
   "source": [
    "info = criar_contato()"
   ]
  },
  {
   "cell_type": "code",
   "execution_count": 14,
   "metadata": {
    "collapsed": false
   },
   "outputs": [
    {
     "data": {
      "text/plain": [
       "{'email': 'z@z.z', 'nome': 'z', 'telefone': '3333333333333333333333'}"
      ]
     },
     "execution_count": 14,
     "metadata": {},
     "output_type": "execute_result"
    }
   ],
   "source": [
    "info"
   ]
  },
  {
   "cell_type": "code",
   "execution_count": 19,
   "metadata": {
    "collapsed": true
   },
   "outputs": [],
   "source": [
    "salvar_contato(info['nome'], info['email'], info['telefone'])"
   ]
  },
  {
   "cell_type": "code",
   "execution_count": 20,
   "metadata": {
    "collapsed": false
   },
   "outputs": [],
   "source": [
    "salvar_contato(**info) # forma abreviada \n",
    "salvar_contato(nome=info['nome'],email=info['email'],telefone=info['telefone']) # forma não abreviada "
   ]
  }
 ],
 "metadata": {
  "kernelspec": {
   "display_name": "Python 3",
   "language": "python",
   "name": "python3"
  },
  "language_info": {
   "codemirror_mode": {
    "name": "ipython",
    "version": 3
   },
   "file_extension": ".py",
   "mimetype": "text/x-python",
   "name": "python",
   "nbconvert_exporter": "python",
   "pygments_lexer": "ipython3",
   "version": "3.5.2"
  }
 },
 "nbformat": 4,
 "nbformat_minor": 2
}
