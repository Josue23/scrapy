{
 "cells": [
  {
   "cell_type": "code",
   "execution_count": null,
   "metadata": {
    "collapsed": false,
    "deletable": true,
    "editable": true
   },
   "outputs": [],
   "source": [
    "import random\n",
    "continua = True\n",
    "\n",
    "while continua:\n",
    "    faces = input('Digite um número de faces: ')\n",
    "    #if faces == \"parar\":\n",
    "    if faces == chr(32): # tecla space\n",
    "        continua = False # stops the loop\n",
    "    else:\n",
    "        faces = int(faces)\n",
    "        numero = random.randint(1, faces)\n",
    "        print('Seu número é %s ' %numero)\n",
    "print(\"Fim do programa!!\")"
   ]
  }
 ],
 "metadata": {
  "kernelspec": {
   "display_name": "Python 3",
   "language": "python",
   "name": "python3"
  },
  "language_info": {
   "codemirror_mode": {
    "name": "ipython",
    "version": 3
   },
   "file_extension": ".py",
   "mimetype": "text/x-python",
   "name": "python",
   "nbconvert_exporter": "python",
   "pygments_lexer": "ipython3",
   "version": "3.5.2"
  }
 },
 "nbformat": 4,
 "nbformat_minor": 2
}
