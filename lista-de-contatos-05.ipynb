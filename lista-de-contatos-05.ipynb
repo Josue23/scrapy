{
 "cells": [
  {
   "cell_type": "code",
   "execution_count": 38,
   "metadata": {
    "collapsed": false
   },
   "outputs": [],
   "source": [
    "# *args vai ser todos os valores que eu passar de forma posicional, ou seja, se eu passar apenas o valor\n",
    "# são todos os parâmetros que tem apenas o valor, não nomeados\n",
    "def print_valores(*args, **kwargs): # **kwargs pega todos os valores que estão com chave e valor\n",
    "    print(args)\n",
    "    print(type(args))\n",
    "    \n",
    "    print(kwargs)\n",
    "    print(type(kwargs)) # **kwargs recebe valores nomeados de forma dinâmica"
   ]
  },
  {
   "cell_type": "code",
   "execution_count": 39,
   "metadata": {
    "collapsed": true
   },
   "outputs": [],
   "source": [
    "# a função abaixo faz a mesma coisa da função acima\n",
    "# *args vai ser todos os valores que eu passar de forma posicional, ou seja, se eu passar apenas o valor\n",
    "# são todos os parâmetros que tem apenas o valor, não nomeados\n",
    "def print_valores(*posicionais, **nomeados):\n",
    "    print(posicionais)\n",
    "    print(nomeados)"
   ]
  },
  {
   "cell_type": "code",
   "execution_count": 40,
   "metadata": {
    "collapsed": false
   },
   "outputs": [
    {
     "name": "stdout",
     "output_type": "stream",
     "text": [
      "('teste1', 'teste2')\n",
      "{'parametro': 'teste3'}\n"
     ]
    }
   ],
   "source": [
    "# 'teste1' e 'teste2' são parâmtros posicionais (*args), gera uma tupla\n",
    "# parametro='teste3' é um parâmetro nomeado (**kwargs), gera um dicionário\n",
    "print_valores('teste1', 'teste2', parametro='teste3')"
   ]
  },
  {
   "cell_type": "code",
   "execution_count": 55,
   "metadata": {
    "collapsed": true
   },
   "outputs": [],
   "source": [
    "def criar_contato(*args): # *args são as informações que quero resgatar do usuário\n",
    "    print('Digite as informações do contato')\n",
    "    info = {} # cria um dicionário vazio\n",
    "    for arg in args:\n",
    "        info[arg] = input('Digite %s: ' %arg)\n",
    "    return info\n",
    "# dicionário não é ordenado atá a versão 3.5 do Python\n",
    "# é ordenado a partir da versão 3.6"
   ]
  },
  {
   "cell_type": "code",
   "execution_count": 56,
   "metadata": {
    "collapsed": false
   },
   "outputs": [
    {
     "name": "stdout",
     "output_type": "stream",
     "text": [
      "Digite as informações do contato\n",
      "Digite nome: nome1\n",
      "Digite email: n@n.n\n"
     ]
    }
   ],
   "source": [
    "contato = criar_contato('nome', 'email')"
   ]
  },
  {
   "cell_type": "code",
   "execution_count": 43,
   "metadata": {
    "collapsed": false
   },
   "outputs": [
    {
     "data": {
      "text/plain": [
       "{'email': 'w@w.w', 'nome': 'nome'}"
      ]
     },
     "execution_count": 43,
     "metadata": {},
     "output_type": "execute_result"
    }
   ],
   "source": [
    "contato "
   ]
  },
  {
   "cell_type": "code",
   "execution_count": 44,
   "metadata": {
    "collapsed": false
   },
   "outputs": [
    {
     "data": {
      "text/plain": [
       "dict_values(['nome', 'w@w.w'])"
      ]
     },
     "execution_count": 44,
     "metadata": {},
     "output_type": "execute_result"
    }
   ],
   "source": [
    "contato.values()"
   ]
  },
  {
   "cell_type": "code",
   "execution_count": 45,
   "metadata": {
    "collapsed": false
   },
   "outputs": [
    {
     "data": {
      "text/plain": [
       "'a b c'"
      ]
     },
     "execution_count": 45,
     "metadata": {},
     "output_type": "execute_result"
    }
   ],
   "source": [
    "' '.join(['a', 'b', 'c']) # explicação do método join"
   ]
  },
  {
   "cell_type": "code",
   "execution_count": 58,
   "metadata": {
    "collapsed": true
   },
   "outputs": [],
   "source": [
    "# recebe valores nomeados de forma dinâmica\n",
    "def salvar_contato(**kwargs):\n",
    "    contato = open('contato.csv', 'a') # cria o arquivo objeto \"contatos\" se ele não existir ainda\n",
    "    contato.write(','.join(kwargs.values()))\n",
    "    contato.flush()\n",
    "    contato.close()"
   ]
  },
  {
   "cell_type": "code",
   "execution_count": 59,
   "metadata": {
    "collapsed": false
   },
   "outputs": [],
   "source": [
    "salvar_contato(**contato)"
   ]
  }
 ],
 "metadata": {
  "kernelspec": {
   "display_name": "Python 3",
   "language": "python",
   "name": "python3"
  },
  "language_info": {
   "codemirror_mode": {
    "name": "ipython",
    "version": 3
   },
   "file_extension": ".py",
   "mimetype": "text/x-python",
   "name": "python",
   "nbconvert_exporter": "python",
   "pygments_lexer": "ipython3",
   "version": "3.5.2"
  }
 },
 "nbformat": 4,
 "nbformat_minor": 2
}
