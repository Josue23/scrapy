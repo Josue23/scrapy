{
 "cells": [
  {
   "cell_type": "code",
   "execution_count": null,
   "metadata": {
    "collapsed": false
   },
   "outputs": [],
   "source": [
    "numero = 10\n",
    "chute = int(input('Digite um número: '))"
   ]
  },
  {
   "cell_type": "code",
   "execution_count": null,
   "metadata": {
    "collapsed": true
   },
   "outputs": [],
   "source": [
    "diferenca = numero - chute\n",
    "if diferenca == 0:\n",
    "    print('Você acertou!!')\n",
    "elif diferenca > 0:\n",
    "    print('Você errou!!')\n",
    "    print('Dica: O número que você procura é maior que %s.' %chute)\n",
    "else:\n",
    "    print('Você errou!!')\n",
    "    print('Dica: O número que você procura é menor que %s.' %chute)        "
   ]
  }
 ],
 "metadata": {
  "kernelspec": {
   "display_name": "Python 3",
   "language": "python",
   "name": "python3"
  },
  "language_info": {
   "codemirror_mode": {
    "name": "ipython",
    "version": 3
   },
   "file_extension": ".py",
   "mimetype": "text/x-python",
   "name": "python",
   "nbconvert_exporter": "python",
   "pygments_lexer": "ipython3",
   "version": "3.5.2"
  }
 },
 "nbformat": 4,
 "nbformat_minor": 2
}
