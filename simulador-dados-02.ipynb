{
 "cells": [
  {
   "cell_type": "code",
   "execution_count": null,
   "metadata": {
    "collapsed": false,
    "deletable": true,
    "editable": true
   },
   "outputs": [],
   "source": [
    "import random\n",
    "continua = True\n",
    "\n",
    "while continua:\n",
    "    faces = input('Pressione a tecla espaço para parar ou \\nDigite um número de faces: ')\n",
    "    #if faces == \"parar\":\n",
    "    if faces == chr(32): # tecla space\n",
    "        continua = False # the loop stops\n",
    "    else:\n",
    "        faces = int(faces)\n",
    "        dados = int(input('Número de dados: '))\n",
    "        for dado in range(dados): # range gera uma LISTA de 0 até número de dados menos 1\n",
    "            numero = random.randint(1, faces)\n",
    "            print('Seu número é %s ' %numero)\n",
    "print(\"Fim do programa!!\")"
   ]
  },
  {
   "cell_type": "code",
   "execution_count": null,
   "metadata": {
    "collapsed": false
   },
   "outputs": [
    {
     "name": "stdout",
     "output_type": "stream",
     "text": [
      "\n",
      "Digite o número de faces dos dados: 6\n",
      "Digite a qtd de dados: 3\n",
      "Seu número é 2 \n",
      "Seu número é 6 \n",
      "Seu número é 6 \n",
      "\n",
      "Digite o número de faces dos dados: 6\n",
      "Digite a qtd de dados: 3\n",
      "Seu número é 6 \n",
      "Seu número é 1 \n",
      "Seu número é 4 \n",
      "\n",
      "Digite o número de faces dos dados: 6\n",
      "Digite a qtd de dados: 3\n",
      "Seu número é 6 \n",
      "Seu número é 6 \n",
      "Seu número é 6 \n",
      "\n",
      "Digite o número de faces dos dados: 6\n",
      "Digite a qtd de dados: 3\n",
      "Seu número é 1 \n",
      "Seu número é 2 \n",
      "Seu número é 4 \n"
     ]
    }
   ],
   "source": [
    "# outra versão do mesmo programa\n",
    "\n",
    "import random\n",
    "while 1:\n",
    "    faces = input('\\nDigite o número de faces dos dados: ')\n",
    "    if faces == chr(32):\n",
    "        print('\\nVocê finalizou o programa com a tecla de espaço')\n",
    "        break\n",
    "    else:\n",
    "        faces = int(faces)\n",
    "        dados = int(input('Digite a qtd de dados: '))\n",
    "        for sorteado in range(dados):\n",
    "            sorteado = random.randint(1, faces)\n",
    "            print('Seu número é %s ' %sorteado)\n",
    "print('Fim do programa')"
   ]
  }
 ],
 "metadata": {
  "kernelspec": {
   "display_name": "Python 3",
   "language": "python",
   "name": "python3"
  },
  "language_info": {
   "codemirror_mode": {
    "name": "ipython",
    "version": 3
   },
   "file_extension": ".py",
   "mimetype": "text/x-python",
   "name": "python",
   "nbconvert_exporter": "python",
   "pygments_lexer": "ipython3",
   "version": "3.5.2"
  }
 },
 "nbformat": 4,
 "nbformat_minor": 2
}
