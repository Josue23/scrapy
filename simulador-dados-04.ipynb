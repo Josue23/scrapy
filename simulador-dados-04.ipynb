{
 "cells": [
  {
   "cell_type": "code",
   "execution_count": 1,
   "metadata": {
    "collapsed": true,
    "deletable": true,
    "editable": true
   },
   "outputs": [],
   "source": [
    "import random\n",
    "import statistics"
   ]
  },
  {
   "cell_type": "code",
   "execution_count": 2,
   "metadata": {
    "collapsed": true,
    "deletable": true,
    "editable": true
   },
   "outputs": [],
   "source": [
    "def gerar_numeros(faces):  # cria a função gerar_numeros\n",
    "        dados = int(input('Número de dados: '))\n",
    "        numeros = []\n",
    "        for dado in range(dados): # range gera uma LISTA de 0 até número de dados menos 1\n",
    "            numero = random.randint(1, faces)\n",
    "            numeros.append(numero)\n",
    "            print('%2dº dado: %s ' %(dado+1, numero))\n",
    "        print('\\nSoma: %s ' %sum(numeros))\n",
    "        print('Mínimo: %s ' %min(numeros))\n",
    "        print('Máximo: %s ' %max(numeros))\n",
    "        print('Média: %s \\n' %statistics.mean(numeros))  # média estatística "
   ]
  },
  {
   "cell_type": "code",
   "execution_count": 3,
   "metadata": {
    "collapsed": false,
    "deletable": true,
    "editable": true
   },
   "outputs": [
    {
     "name": "stdout",
     "output_type": "stream",
     "text": [
      "Pressione a tecla espaço para parar ou \n",
      "Digite um número de faces: 10\n",
      "Número de dados: 3\n",
      " 1º dado: 8 \n",
      " 2º dado: 6 \n",
      " 3º dado: 9 \n",
      "\n",
      "Soma: 23 \n",
      "Mínimo: 6 \n",
      "Máximo: 9 \n",
      "Média: 7.666666666666667 \n",
      "\n",
      "Pressione a tecla espaço para parar ou \n",
      "Digite um número de faces:  \n",
      "Fim do programa!!\n"
     ]
    }
   ],
   "source": [
    "continua = True\n",
    "while continua:\n",
    "    faces = input('Pressione a tecla espaço para parar ou \\nDigite um número de faces: ')\n",
    "    #if faces == \"parar\":\n",
    "    if faces == chr(32): # tecla space\n",
    "        continua = False # the loop stops\n",
    "    else:\n",
    "        faces = int(faces)\n",
    "        gerar_numeros(faces)  # chama a função gerar_numeros\n",
    "print(\"Fim do programa!!\")"
   ]
  }
 ],
 "metadata": {
  "kernelspec": {
   "display_name": "Python 3",
   "language": "python",
   "name": "python3"
  },
  "language_info": {
   "codemirror_mode": {
    "name": "ipython",
    "version": 3
   },
   "file_extension": ".py",
   "mimetype": "text/x-python",
   "name": "python",
   "nbconvert_exporter": "python",
   "pygments_lexer": "ipython3",
   "version": "3.5.2"
  }
 },
 "nbformat": 4,
 "nbformat_minor": 2
}
