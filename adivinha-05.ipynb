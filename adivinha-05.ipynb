{
 "cells": [
  {
   "cell_type": "code",
   "execution_count": 1,
   "metadata": {
    "collapsed": false,
    "deletable": true,
    "editable": true
   },
   "outputs": [
    {
     "name": "stdout",
     "output_type": "stream",
     "text": [
      "Digite um número: 50\n"
     ]
    }
   ],
   "source": [
    "import random\n",
    "numero = random.randint(1, 100)\n",
    "chute = int(input('Digite um número: '))"
   ]
  },
  {
   "cell_type": "code",
   "execution_count": 2,
   "metadata": {
    "collapsed": false,
    "deletable": true,
    "editable": true
   },
   "outputs": [
    {
     "name": "stdout",
     "output_type": "stream",
     "text": [
      "\n",
      "Você errou!!\n",
      "Dica: O número que você procura é menor que 50.\n",
      "Está frio!!\n",
      "Tente novamente \n",
      "Digite um número: 25\n",
      "\n",
      "Você errou!!\n",
      "Dica: O número que você procura é menor que 25.\n",
      "Está frio!!\n",
      "Tente novamente \n",
      "Digite um número: 13\n",
      "\n",
      "Você errou!!\n",
      "Dica: O número que você procura é maior que 13.\n",
      "Está frio!!\n",
      "Tente novamente \n",
      "Digite um número: 18\n",
      "\n",
      "Você errou!!\n",
      "Dica: O número que você procura é maior que 18.\n",
      "Está quente!!\n",
      "Tente novamente \n",
      "Digite um número: 22\n",
      "\n",
      "Você errou!!\n",
      "Dica: O número que você procura é menor que 22.\n",
      "Está frio!!\n",
      "Tente novamente \n",
      "Digite um número: 24\n",
      "\n",
      "Você errou!!\n",
      "Dica: O número que você procura é menor que 24.\n",
      "Está frio!!\n",
      "Tente novamente \n",
      "Digite um número: 20\n",
      "O número sorteado é 19 \n"
     ]
    }
   ],
   "source": [
    "diferenca = numero - chute\n",
    "tentativa = 1\n",
    "while tentativa <= 6:\n",
    "    if numero == chute:\n",
    "        print('\\nVocê acertou!!')\n",
    "        break\n",
    "    diferenca = numero - chute\n",
    "    if diferenca > 0:\n",
    "        print('\\nVocê errou!!')\n",
    "        print('Dica: O número que você procura é maior que %s.' %chute)\n",
    "    else:\n",
    "        print('\\nVocê errou!!')\n",
    "        print('Dica: O número que você procura é menor que %s.' %chute)\n",
    "\n",
    "    # verifica se está frio ou quente\n",
    "    if abs(diferenca) <= abs(numero) * .1: # verifica se a diferença é menor que 20% da variável numero\n",
    "        print('Está quente!!')\n",
    "    else:\n",
    "        print('Está frio!!')\n",
    "\n",
    "    tentativa += 1\n",
    "    chute = int(input('Tente novamente \\nDigite um número: '))\n",
    "print('O número sorteado é %s ' %numero)\n",
    "\n"
   ]
  },
  {
   "cell_type": "code",
   "execution_count": 9,
   "metadata": {
    "collapsed": false,
    "deletable": true,
    "editable": true
   },
   "outputs": [
    {
     "data": {
      "text/plain": [
       "2.718281828459045"
      ]
     },
     "execution_count": 9,
     "metadata": {},
     "output_type": "execute_result"
    }
   ],
   "source": [
    "from math import pi, e, sqrt\n",
    "pi\n",
    "e"
   ]
  },
  {
   "cell_type": "code",
   "execution_count": null,
   "metadata": {
    "collapsed": true
   },
   "outputs": [],
   "source": []
  },
  {
   "cell_type": "code",
   "execution_count": null,
   "metadata": {
    "collapsed": true
   },
   "outputs": [],
   "source": []
  }
 ],
 "metadata": {
  "kernelspec": {
   "display_name": "Python 3",
   "language": "python",
   "name": "python3"
  },
  "language_info": {
   "codemirror_mode": {
    "name": "ipython",
    "version": 3
   },
   "file_extension": ".py",
   "mimetype": "text/x-python",
   "name": "python",
   "nbconvert_exporter": "python",
   "pygments_lexer": "ipython3",
   "version": "3.5.2"
  }
 },
 "nbformat": 4,
 "nbformat_minor": 2
}
