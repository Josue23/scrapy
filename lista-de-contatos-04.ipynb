{
 "cells": [
  {
   "cell_type": "code",
   "execution_count": null,
   "metadata": {
    "collapsed": true,
    "deletable": true,
    "editable": true
   },
   "outputs": [],
   "source": [
    "def criar_contato():\n",
    "    print('Digite as informações do contato')\n",
    "    nome = input('Nome: ')\n",
    "    email = input('Email: ')\n",
    "    telefone = input('Telefone: ')\n",
    "    return { # retorna um dicionário com os dados do contato\n",
    "        'nome': nome,\n",
    "        'email': email,\n",
    "        'telefone': telefone\n",
    "    }"
   ]
  },
  {
   "cell_type": "code",
   "execution_count": null,
   "metadata": {
    "collapsed": true,
    "deletable": true,
    "editable": true
   },
   "outputs": [],
   "source": [
    "# recebe o return nome, email, telefone da função criar_contato()\n",
    "def salvar_contato(nome, email, telefone):\n",
    "    contato = open('contato.csv', 'a') # cria o arquivo objeto \"contatos\" se ele não existir ainda\n",
    "    contato.write('%s, %s, %s\\n' %(nome, email, telefone)) # grava no arquivo objeto \"contatos\"\n",
    "    contato.flush()\n",
    "    contato.close()"
   ]
  },
  {
   "cell_type": "code",
   "execution_count": null,
   "metadata": {
    "collapsed": false,
    "deletable": true,
    "editable": true
   },
   "outputs": [],
   "source": [
    "info = criar_contato()"
   ]
  },
  {
   "cell_type": "code",
   "execution_count": null,
   "metadata": {
    "collapsed": false,
    "deletable": true,
    "editable": true
   },
   "outputs": [],
   "source": [
    "info # cria o objeto info"
   ]
  },
  {
   "cell_type": "code",
   "execution_count": null,
   "metadata": {
    "collapsed": false,
    "deletable": true,
    "editable": true
   },
   "outputs": [],
   "source": [
    "type(info) # info é um dicionário"
   ]
  },
  {
   "cell_type": "code",
   "execution_count": null,
   "metadata": {
    "collapsed": true,
    "deletable": true,
    "editable": true
   },
   "outputs": [],
   "source": [
    "# abaixo eu eu posso chamar a função salvar_contato() de três formas diferentes\n",
    "salvar_contato(info['nome'], info['email'], info['telefone'])\n",
    "\n",
    "# as duas formas abaixo fazem a mesma coisa\n",
    "salvar_contato(**info) # forma abreviada, só funciona com dicionário\n",
    "salvar_contato(nome=info['nome'],email=info['email'],telefone=info['telefone']) # forma não abreviada "
   ]
  },
  {
   "cell_type": "code",
   "execution_count": null,
   "metadata": {
    "collapsed": false,
    "deletable": true,
    "editable": true
   },
   "outputs": [],
   "source": [
    "info"
   ]
  }
 ],
 "metadata": {
  "kernelspec": {
   "display_name": "Python 3",
   "language": "python",
   "name": "python3"
  },
  "language_info": {
   "codemirror_mode": {
    "name": "ipython",
    "version": 3
   },
   "file_extension": ".py",
   "mimetype": "text/x-python",
   "name": "python",
   "nbconvert_exporter": "python",
   "pygments_lexer": "ipython3",
   "version": "3.5.2"
  }
 },
 "nbformat": 4,
 "nbformat_minor": 2
}
