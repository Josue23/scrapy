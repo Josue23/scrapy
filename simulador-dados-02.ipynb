{
 "cells": [
  {
   "cell_type": "code",
   "execution_count": 2,
   "metadata": {
    "collapsed": false,
    "deletable": true,
    "editable": true
   },
   "outputs": [
    {
     "name": "stdout",
     "output_type": "stream",
     "text": [
      "Pressione a tecla espaço para parar ou \n",
      "Digite um número de faces: 6\n",
      "Número de dados: 3\n",
      "Seu número é 3 \n",
      "Seu número é 4 \n",
      "Seu número é 3 \n",
      "Pressione a tecla espaço para parar ou \n",
      "Digite um número de faces: 6\n",
      "Número de dados: 3\n",
      "Seu número é 2 \n",
      "Seu número é 1 \n",
      "Seu número é 3 \n",
      "Pressione a tecla espaço para parar ou \n",
      "Digite um número de faces:  \n",
      "Fim do programa!!\n"
     ]
    }
   ],
   "source": [
    "import random\n",
    "continua = True\n",
    "\n",
    "while continua:\n",
    "    faces = input('Pressione a tecla espaço para parar ou \\nDigite um número de faces: ')\n",
    "    #if faces == \"parar\":\n",
    "    if faces == chr(32): # tecla space\n",
    "        continua = False # stops the loop\n",
    "    else:\n",
    "        faces = int(faces)\n",
    "        dados = int(input('Número de dados: '))\n",
    "        for dado in range(dados): # range gera uma lista de 0 até número de dados\n",
    "            numero = random.randint(1, faces)\n",
    "            print('Seu número é %s ' %numero)\n",
    "print(\"Fim do programa!!\")"
   ]
  }
 ],
 "metadata": {
  "kernelspec": {
   "display_name": "Python 3",
   "language": "python",
   "name": "python3"
  },
  "language_info": {
   "codemirror_mode": {
    "name": "ipython",
    "version": 3
   },
   "file_extension": ".py",
   "mimetype": "text/x-python",
   "name": "python",
   "nbconvert_exporter": "python",
   "pygments_lexer": "ipython3",
   "version": "3.5.2"
  }
 },
 "nbformat": 4,
 "nbformat_minor": 2
}
