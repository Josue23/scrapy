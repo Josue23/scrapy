{
 "cells": [
  {
   "cell_type": "code",
   "execution_count": null,
   "metadata": {
    "collapsed": true
   },
   "outputs": [],
   "source": [
    "import random"
   ]
  },
  {
   "cell_type": "code",
   "execution_count": null,
   "metadata": {
    "collapsed": true
   },
   "outputs": [],
   "source": [
    "def gerar_numeros(faces):  # cria a função gerar_numeros\n",
    "        dados = int(input('Número de dados: '))\n",
    "        for dado in range(dados): # range gera uma LISTA de 0 até número de dados menos 1\n",
    "            numero = random.randint(1, faces)\n",
    "            print('Seu número é %s ' %numero)"
   ]
  },
  {
   "cell_type": "code",
   "execution_count": null,
   "metadata": {
    "collapsed": false
   },
   "outputs": [],
   "source": [
    "continua = True\n",
    "while continua:\n",
    "    faces = input('Pressione a tecla espaço para parar ou \\nDigite um número de faces: ')\n",
    "    #if faces == \"parar\":\n",
    "    if faces == chr(32): # tecla space\n",
    "        continua = False # the loop stops\n",
    "    else:\n",
    "        faces = int(faces)\n",
    "        gerar_numeros(faces)  # chama a função gerar_numeros\n",
    "print(\"Fim do programa!!\")"
   ]
  }
 ],
 "metadata": {
  "kernelspec": {
   "display_name": "Python 3",
   "language": "python",
   "name": "python3"
  },
  "language_info": {
   "codemirror_mode": {
    "name": "ipython",
    "version": 3
   },
   "file_extension": ".py",
   "mimetype": "text/x-python",
   "name": "python",
   "nbconvert_exporter": "python",
   "pygments_lexer": "ipython3",
   "version": "3.5.2"
  }
 },
 "nbformat": 4,
 "nbformat_minor": 2
}
