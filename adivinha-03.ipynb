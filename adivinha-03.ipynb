{
 "cells": [
  {
   "cell_type": "code",
   "execution_count": null,
   "metadata": {
    "collapsed": false,
    "deletable": true,
    "editable": true
   },
   "outputs": [],
   "source": [
    "numero = 50\n",
    "chute = int(input('Digite um número: '))"
   ]
  },
  {
   "cell_type": "code",
   "execution_count": null,
   "metadata": {
    "collapsed": false,
    "deletable": true,
    "editable": true
   },
   "outputs": [],
   "source": [
    "diferenca = numero - chute\n",
    "\n",
    "# verifica se o usuário acertou\n",
    "if diferenca == 0:\n",
    "    print('Você acertou!!')\n",
    "elif diferenca > 0:\n",
    "    print('Você errou!!')\n",
    "    print('Dica: O número que você procura é maior que %s.' %chute)\n",
    "else:\n",
    "    print('Você errou!!')\n",
    "    print('Dica: O número que você procura é menor que %s.' %chute)\n",
    "\n",
    "# verifica se está frio ou quente\n",
    "diferenca = abs(diferenca) # converte a diferenca para valor absoluto\n",
    "if diferenca <= abs(numero) * .2: # verifica se a diferença é menor que 20% da variável numero\n",
    "    print('Está quente!!')\n",
    "else:\n",
    "    print('Está frio!!')"
   ]
  },
  {
   "cell_type": "code",
   "execution_count": null,
   "metadata": {
    "collapsed": true,
    "deletable": true,
    "editable": true
   },
   "outputs": [],
   "source": []
  }
 ],
 "metadata": {
  "kernelspec": {
   "display_name": "Python 3",
   "language": "python",
   "name": "python3"
  },
  "language_info": {
   "codemirror_mode": {
    "name": "ipython",
    "version": 3
   },
   "file_extension": ".py",
   "mimetype": "text/x-python",
   "name": "python",
   "nbconvert_exporter": "python",
   "pygments_lexer": "ipython3",
   "version": "3.5.2"
  }
 },
 "nbformat": 4,
 "nbformat_minor": 2
}
