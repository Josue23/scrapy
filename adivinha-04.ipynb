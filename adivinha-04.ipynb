{
 "cells": [
  {
   "cell_type": "code",
   "execution_count": 1,
   "metadata": {
    "collapsed": false,
    "deletable": true,
    "editable": true
   },
   "outputs": [
    {
     "name": "stdout",
     "output_type": "stream",
     "text": [
      "Digite um número: -10\n"
     ]
    }
   ],
   "source": [
    "numero = 50\n",
    "chute = int(input('Digite um número: '))"
   ]
  },
  {
   "cell_type": "code",
   "execution_count": 2,
   "metadata": {
    "collapsed": false,
    "deletable": true,
    "editable": true
   },
   "outputs": [
    {
     "name": "stdout",
     "output_type": "stream",
     "text": [
      "Você errou!!\n",
      "Dica: O número que você procura é maior que -10.\n",
      "Está frio!!\n",
      "Tente novamente \n",
      "Digite um número: 0\n",
      "Você errou!!\n",
      "Dica: O número que você procura é maior que 0.\n",
      "Está frio!!\n",
      "Tente novamente \n",
      "Digite um número: 10\n",
      "Você errou!!\n",
      "Dica: O número que você procura é maior que 10.\n",
      "Está frio!!\n",
      "Tente novamente \n",
      "Digite um número: 20\n",
      "Você errou!!\n",
      "Dica: O número que você procura é maior que 20.\n",
      "Está frio!!\n",
      "Tente novamente \n",
      "Digite um número: 30\n",
      "Você errou!!\n",
      "Dica: O número que você procura é maior que 30.\n",
      "Está frio!!\n",
      "Tente novamente \n",
      "Digite um número: 31\n"
     ]
    }
   ],
   "source": [
    "# numero = 50\n",
    "# chute = int(input('Digite um número: '))\n",
    "\n",
    "diferenca = numero - chute\n",
    "if diferenca == 0:\n",
    "    print('Você acertou!!')\n",
    "else:\n",
    "    tentativa = 1\n",
    "    while numero != chute and tentativa <= 5:\n",
    "        diferenca = numero - chute\n",
    "        if diferenca > 0:\n",
    "            print('Você errou!!')\n",
    "            print('Dica: O número que você procura é maior que %s.' %chute)\n",
    "        else:\n",
    "            print('Você errou!!')\n",
    "            print('Dica: O número que você procura é menor que %s.' %chute)\n",
    "\n",
    "        # verifica se está frio ou quente\n",
    "        if abs(diferenca) <= abs(numero) * .2: # verifica se a diferença é menor que 20% da variável numero\n",
    "            print('Está quente!!')\n",
    "        else:\n",
    "            print('Está frio!!')\n",
    "\n",
    "        tentativa += 1\n",
    "        chute = int(input('Tente novamente \\nDigite um número: ')) \n",
    "\n"
   ]
  },
  {
   "cell_type": "code",
   "execution_count": null,
   "metadata": {
    "collapsed": true
   },
   "outputs": [],
   "source": []
  }
 ],
 "metadata": {
  "kernelspec": {
   "display_name": "Python 3",
   "language": "python",
   "name": "python3"
  },
  "language_info": {
   "codemirror_mode": {
    "name": "ipython",
    "version": 3
   },
   "file_extension": ".py",
   "mimetype": "text/x-python",
   "name": "python",
   "nbconvert_exporter": "python",
   "pygments_lexer": "ipython3",
   "version": "3.5.2"
  }
 },
 "nbformat": 4,
 "nbformat_minor": 2
}
