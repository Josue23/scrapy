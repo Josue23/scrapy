{
 "cells": [
  {
   "cell_type": "code",
   "execution_count": 7,
   "metadata": {
    "collapsed": true,
    "deletable": true,
    "editable": true
   },
   "outputs": [],
   "source": [
    "def criar_contato():\n",
    "    print('Digite as informações do contato')\n",
    "    nome = input('Nome: ')\n",
    "    email = input('Email: ')\n",
    "    telefone = input('Telefone: ')\n",
    "    return { # retorna um dicionário com os dados do contato\n",
    "        'nome': nome,\n",
    "        'email': email,\n",
    "        'telefone': telefone\n",
    "    }"
   ]
  },
  {
   "cell_type": "code",
   "execution_count": 8,
   "metadata": {
    "collapsed": true,
    "deletable": true,
    "editable": true
   },
   "outputs": [],
   "source": [
    "# recebe o return nome, email, telefone da função criar_contato()\n",
    "def salvar_contato(nome, email, telefone):\n",
    "    contato = open('contato.csv', 'a') # cria o arquivo objeto \"contatos\" se ele não existir ainda\n",
    "    contato.write('%s, %s, %s\\n' %(nome, email, telefone)) # grava no arquivo objeto \"contatos\"\n",
    "    contato.flush()\n",
    "    contato.close()"
   ]
  },
  {
   "cell_type": "code",
   "execution_count": 9,
   "metadata": {
    "collapsed": false,
    "deletable": true,
    "editable": true
   },
   "outputs": [
    {
     "name": "stdout",
     "output_type": "stream",
     "text": [
      "Digite as informações do contato\n",
      "Nome: t\n",
      "Email: r@r.r\n",
      "Telefone: 222222222222222222\n"
     ]
    }
   ],
   "source": [
    "info = criar_contato()"
   ]
  },
  {
   "cell_type": "code",
   "execution_count": 18,
   "metadata": {
    "collapsed": false,
    "deletable": true,
    "editable": true
   },
   "outputs": [
    {
     "data": {
      "text/plain": [
       "{'email': 'r@r.r', 'nome': 't', 'telefone': '222222222222222222'}"
      ]
     },
     "execution_count": 18,
     "metadata": {},
     "output_type": "execute_result"
    }
   ],
   "source": [
    "info # cria o objeto info"
   ]
  },
  {
   "cell_type": "code",
   "execution_count": 19,
   "metadata": {
    "collapsed": false
   },
   "outputs": [
    {
     "data": {
      "text/plain": [
       "dict"
      ]
     },
     "execution_count": 19,
     "metadata": {},
     "output_type": "execute_result"
    }
   ],
   "source": [
    "type(info) # info é um dicionário"
   ]
  },
  {
   "cell_type": "code",
   "execution_count": 12,
   "metadata": {
    "collapsed": true,
    "deletable": true,
    "editable": true
   },
   "outputs": [],
   "source": [
    "# abaixo eu eu posso chamar a função salvar_contato() de três formas diferentes\n",
    "salvar_contato(info['nome'], info['email'], info['telefone'])\n",
    "\n",
    "# as duas formas abaixo fazem a mesma coisa\n",
    "salvar_contato(**info) # forma abreviada, só funciona com dicionário\n",
    "salvar_contato(nome=info['nome'],email=info['email'],telefone=info['telefone']) # forma não abreviada "
   ]
  },
  {
   "cell_type": "code",
   "execution_count": 14,
   "metadata": {
    "collapsed": false
   },
   "outputs": [
    {
     "data": {
      "text/plain": [
       "{'email': 'r@r.r', 'nome': 't', 'telefone': '222222222222222222'}"
      ]
     },
     "execution_count": 14,
     "metadata": {},
     "output_type": "execute_result"
    }
   ],
   "source": [
    "info"
   ]
  }
 ],
 "metadata": {
  "kernelspec": {
   "display_name": "Python 3",
   "language": "python",
   "name": "python3"
  },
  "language_info": {
   "codemirror_mode": {
    "name": "ipython",
    "version": 3
   },
   "file_extension": ".py",
   "mimetype": "text/x-python",
   "name": "python",
   "nbconvert_exporter": "python",
   "pygments_lexer": "ipython3",
   "version": "3.5.2"
  }
 },
 "nbformat": 4,
 "nbformat_minor": 2
}
