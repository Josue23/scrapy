{
 "cells": [
  {
   "cell_type": "code",
   "execution_count": 1,
   "metadata": {
    "collapsed": true
   },
   "outputs": [],
   "source": [
    "def criar_contato():\n",
    "    print('Digite as informações do contato')\n",
    "    nome = input('Nome: ')\n",
    "    email = input('Email: ')\n",
    "    telefone = input('Telefone: ')\n",
    "    return nome, email, telefone"
   ]
  },
  {
   "cell_type": "code",
   "execution_count": 2,
   "metadata": {
    "collapsed": true
   },
   "outputs": [],
   "source": [
    "# recebe o return nome, email, telefone da função criar_contato()\n",
    "def salvar_contato(nome, email, telefone):\n",
    "    contatos = open('contatos.csv', 'w') # cria o arquivo objeto \"contatos\"\n",
    "    contatos.write('%s, %s, %s' %(nome, email, telefone)) # grava no arquivo objeto \"contatos\"\n",
    "    contatos.flush()\n",
    "    contatos.close()"
   ]
  },
  {
   "cell_type": "code",
   "execution_count": 3,
   "metadata": {
    "collapsed": false
   },
   "outputs": [
    {
     "name": "stdout",
     "output_type": "stream",
     "text": [
      "Digite as informações do contato\n",
      "Nome: abc\n",
      "Email: a.a@a\n",
      "Telefone: 67777777\n"
     ]
    }
   ],
   "source": [
    "# chama a função criar_contato()\n",
    "nome, email, telefone = criar_contato()"
   ]
  },
  {
   "cell_type": "code",
   "execution_count": 4,
   "metadata": {
    "collapsed": true
   },
   "outputs": [],
   "source": [
    "# chama a função salvar_contato()\n",
    "# salvar_contato(nome, email, telefone) # parâmetro posicional passando somente os valores para a função\n",
    "# que vai casar com a posição da definição da função onde tem a assinatura da função\n",
    "salvar_contato(telefone=telefone, nome=nome, email=email) # parâmetro nomeado"
   ]
  },
  {
   "cell_type": "code",
   "execution_count": 5,
   "metadata": {
    "collapsed": false
   },
   "outputs": [],
   "source": [
    "# abre novamente o arquivo contatos.csv\n",
    "contatos = open('contatos.csv')"
   ]
  },
  {
   "cell_type": "code",
   "execution_count": 6,
   "metadata": {
    "collapsed": false
   },
   "outputs": [
    {
     "name": "stdout",
     "output_type": "stream",
     "text": [
      "abc, a.a@a, 67777777\n"
     ]
    }
   ],
   "source": [
    "# imprime os dados do arquivo contatos.csv através do arquivo objeto \"contatos\"\n",
    "print(contatos.read())"
   ]
  }
 ],
 "metadata": {
  "kernelspec": {
   "display_name": "Python 3",
   "language": "python",
   "name": "python3"
  },
  "language_info": {
   "codemirror_mode": {
    "name": "ipython",
    "version": 3
   },
   "file_extension": ".py",
   "mimetype": "text/x-python",
   "name": "python",
   "nbconvert_exporter": "python",
   "pygments_lexer": "ipython3",
   "version": "3.5.2"
  }
 },
 "nbformat": 4,
 "nbformat_minor": 2
}
